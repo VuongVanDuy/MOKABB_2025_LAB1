{
 "cells": [
  {
   "metadata": {
    "ExecuteTime": {
     "end_time": "2025-09-21T10:50:30.677189Z",
     "start_time": "2025-09-21T10:50:30.538454Z"
    }
   },
   "cell_type": "code",
   "source": [
    "import re, json, zipfile\n",
    "from pymorphy3 import MorphAnalyzer\n",
    "morph = MorphAnalyzer()"
   ],
   "id": "ca92e588582f0200",
   "outputs": [],
   "execution_count": 1
  },
  {
   "metadata": {
    "ExecuteTime": {
     "end_time": "2025-09-21T10:50:30.696752Z",
     "start_time": "2025-09-21T10:50:30.692271Z"
    }
   },
   "cell_type": "code",
   "source": [
    "def load_config(path: str) -> dict:\n",
    "    with open(path, \"r\", encoding=\"utf-8\") as f:\n",
    "        data = json.load(f)\n",
    "    return data"
   ],
   "id": "d2fc30490ca96de4",
   "outputs": [],
   "execution_count": 2
  },
  {
   "metadata": {
    "ExecuteTime": {
     "end_time": "2025-09-21T10:50:30.714237Z",
     "start_time": "2025-09-21T10:50:30.707934Z"
    }
   },
   "cell_type": "code",
   "source": [
    "data = load_config(path=\"config.json\")\n",
    "\n",
    "_shorteners = data.get(\"shorteners\", [])\n",
    "_ricky_exts = data.get(\"risky_exts\", [])\n",
    "_brand_domains = data.get(\"brand_domains\", [])\n",
    "keywords_dangerous = data.get(\"keywords_dangerous\", [])\n",
    "_keywords_domains = list(keywords_dangerous.keys())\n",
    "_keywords_phishing = []\n",
    "for kws in keywords_dangerous.values():\n",
    "    _keywords_phishing.extend(kws)\n",
    "_keywords_phishing = list(set(_keywords_phishing))"
   ],
   "id": "19a7733a1663bb6e",
   "outputs": [],
   "execution_count": 3
  },
  {
   "metadata": {
    "ExecuteTime": {
     "end_time": "2025-09-21T10:50:30.729615Z",
     "start_time": "2025-09-21T10:50:30.724805Z"
    }
   },
   "cell_type": "code",
   "source": "text = \"Ваш аккаунт заблокирован. Учётная запись заблокирована из-за подозрительной активности. Срочная подтвердите пароль! http://example.com https://example.org/path?query=1\"",
   "id": "b37ded100b9bb17c",
   "outputs": [],
   "execution_count": 4
  },
  {
   "metadata": {
    "ExecuteTime": {
     "end_time": "2025-09-21T10:50:30.743250Z",
     "start_time": "2025-09-21T10:50:30.740357Z"
    }
   },
   "cell_type": "code",
   "source": [
    "def extract_urls(text):\n",
    "    return re.findall(r'https?://[^\\s)>\\]\"]+', text, flags=re.I)"
   ],
   "id": "890871fd8f30c3a0",
   "outputs": [],
   "execution_count": 5
  },
  {
   "metadata": {
    "ExecuteTime": {
     "end_time": "2025-09-21T10:50:30.758327Z",
     "start_time": "2025-09-21T10:50:30.754358Z"
    }
   },
   "cell_type": "code",
   "source": [
    "def extract_domains(text):\n",
    "    urls = extract_urls(text)\n",
    "    domains = []\n",
    "    for url in urls:\n",
    "        match = re.search(r'https?://([^/\\s)>\\]\"]+)', url, flags=re.I)\n",
    "        if match:\n",
    "            domains.append(match.group(1).lower())\n",
    "    return domains"
   ],
   "id": "90d02699dba590b7",
   "outputs": [],
   "execution_count": 6
  },
  {
   "metadata": {
    "ExecuteTime": {
     "end_time": "2025-09-21T10:50:30.782224Z",
     "start_time": "2025-09-21T10:50:30.773438Z"
    }
   },
   "cell_type": "code",
   "source": "extract_urls(text)",
   "id": "312cbf287c0b3f1a",
   "outputs": [
    {
     "data": {
      "text/plain": [
       "['http://example.com', 'https://example.org/path?query=1']"
      ]
     },
     "execution_count": 7,
     "metadata": {},
     "output_type": "execute_result"
    }
   ],
   "execution_count": 7
  },
  {
   "metadata": {
    "ExecuteTime": {
     "end_time": "2025-09-21T10:50:30.878681Z",
     "start_time": "2025-09-21T10:50:30.872155Z"
    }
   },
   "cell_type": "code",
   "source": "extract_domains(text)",
   "id": "c83bdb20807b60d5",
   "outputs": [
    {
     "data": {
      "text/plain": [
       "['example.com', 'example.org']"
      ]
     },
     "execution_count": 8,
     "metadata": {},
     "output_type": "execute_result"
    }
   ],
   "execution_count": 8
  },
  {
   "metadata": {
    "ExecuteTime": {
     "end_time": "2025-09-21T10:50:30.941933Z",
     "start_time": "2025-09-21T10:50:30.935905Z"
    }
   },
   "cell_type": "code",
   "source": [
    "def normalize_words(text: str):\n",
    "    words = re.findall(r\"[а-яА-ЯёЁ]+\", (text or \"\").lower())\n",
    "    return [morph.parse(w)[0].normal_form for w in words]"
   ],
   "id": "4c08a631b6a1be2",
   "outputs": [],
   "execution_count": 9
  },
  {
   "metadata": {
    "ExecuteTime": {
     "end_time": "2025-09-21T10:50:30.966614Z",
     "start_time": "2025-09-21T10:50:30.959451Z"
    }
   },
   "cell_type": "code",
   "source": "normalize_words(text)",
   "id": "6c578dd1f4063ba4",
   "outputs": [
    {
     "data": {
      "text/plain": [
       "['ваш',\n",
       " 'аккаунт',\n",
       " 'заблокировать',\n",
       " 'учётный',\n",
       " 'запись',\n",
       " 'заблокировать',\n",
       " 'из',\n",
       " 'за',\n",
       " 'подозрительный',\n",
       " 'активность',\n",
       " 'срочный',\n",
       " 'подтвердить',\n",
       " 'пароль']"
      ]
     },
     "execution_count": 10,
     "metadata": {},
     "output_type": "execute_result"
    }
   ],
   "execution_count": 10
  },
  {
   "metadata": {
    "ExecuteTime": {
     "end_time": "2025-09-21T10:50:31.019947Z",
     "start_time": "2025-09-21T10:50:31.014834Z"
    }
   },
   "cell_type": "code",
   "source": [
    "def keyword_hits(text: str, keywords_sample: list[str]):\n",
    "    words = normalize_words(text)\n",
    "    count = 0\n",
    "    keywords_phishing = []\n",
    "    for word in words:\n",
    "        if word in keywords_sample:\n",
    "            count += 1\n",
    "            keywords_phishing.append(word)\n",
    "    return round(count * 100 / len(words)), keywords_phishing"
   ],
   "id": "d767e6935ccb01e0",
   "outputs": [],
   "execution_count": 11
  },
  {
   "metadata": {
    "ExecuteTime": {
     "end_time": "2025-09-21T10:50:31.044783Z",
     "start_time": "2025-09-21T10:50:31.035304Z"
    }
   },
   "cell_type": "code",
   "source": [
    "sample_texts = [\n",
    "    \"Ваш аккаунт заблокирован.\",\n",
    "    \"Учётная запись заблокирована из-за подозрительной активности.\",\n",
    "    \"Срочная подтвердите пароль!\",\n",
    "]\n",
    "\n",
    "for t in sample_texts:\n",
    "    print(t, \"->\", keyword_hits(t, _keywords_phishing))"
   ],
   "id": "6d215d946c32bbaa",
   "outputs": [
    {
     "name": "stdout",
     "output_type": "stream",
     "text": [
      "Ваш аккаунт заблокирован. -> (67, ['аккаунт', 'заблокировать'])\n",
      "Учётная запись заблокирована из-за подозрительной активности. -> (57, ['учётный', 'запись', 'заблокировать', 'подозрительный'])\n",
      "Срочная подтвердите пароль! -> (100, ['срочный', 'подтвердить', 'пароль'])\n"
     ]
    }
   ],
   "execution_count": 12
  },
  {
   "metadata": {
    "ExecuteTime": {
     "end_time": "2025-09-21T10:50:31.103461Z",
     "start_time": "2025-09-21T10:50:31.097613Z"
    }
   },
   "cell_type": "code",
   "source": [
    "def exist_shorted_url(text: str, shorteners: list[str]) -> bool:\n",
    "    urls = extract_urls(text)\n",
    "    for url in urls:\n",
    "        if any(short in url for short in shorteners):\n",
    "            return True\n",
    "    return False"
   ],
   "id": "6e3c030c3f58a07b",
   "outputs": [],
   "execution_count": 13
  },
  {
   "metadata": {
    "ExecuteTime": {
     "end_time": "2025-09-21T10:50:31.131151Z",
     "start_time": "2025-09-21T10:50:31.123879Z"
    }
   },
   "cell_type": "code",
   "source": [
    "urls = [\n",
    "    \"http://bit.ly/abc\",\n",
    "    \"https://tinyurl.com/xyz\",\n",
    "    \"http://example.com/full-url\",\n",
    "]\n",
    "for url in urls:\n",
    "    print(url, \"->\", exist_shorted_url(url, _shorteners))"
   ],
   "id": "f24d88b86dea171f",
   "outputs": [
    {
     "name": "stdout",
     "output_type": "stream",
     "text": [
      "http://bit.ly/abc -> True\n",
      "https://tinyurl.com/xyz -> True\n",
      "http://example.com/full-url -> False\n"
     ]
    }
   ],
   "execution_count": 14
  },
  {
   "metadata": {
    "ExecuteTime": {
     "end_time": "2025-09-21T10:50:31.216854Z",
     "start_time": "2025-09-21T10:50:31.211127Z"
    }
   },
   "cell_type": "code",
   "source": [
    "def exits_dangerous_domain(text: str, keywords_dangerous_domains: list[str]) -> bool:\n",
    "    domains = extract_domains(text)\n",
    "    for domain in domains:\n",
    "        if any(danger in domain for danger in keywords_dangerous_domains):\n",
    "            return True\n",
    "    return False"
   ],
   "id": "26d169d01b55b9c",
   "outputs": [],
   "execution_count": 15
  },
  {
   "metadata": {
    "ExecuteTime": {
     "end_time": "2025-09-21T10:50:31.239514Z",
     "start_time": "2025-09-21T10:50:31.233335Z"
    }
   },
   "cell_type": "code",
   "source": [
    "urls = [\n",
    "    \"http://cloud-verify.com\",\n",
    "    \"https://safe-site.org\",\n",
    "    \"http://apple-auth.net\"\n",
    "]\n",
    "for url in urls:\n",
    "    print(url, \"->\", exits_dangerous_domain(url, _keywords_domains))"
   ],
   "id": "7315623efd4c87c8",
   "outputs": [
    {
     "name": "stdout",
     "output_type": "stream",
     "text": [
      "http://cloud-verify.com -> True\n",
      "https://safe-site.org -> False\n",
      "http://apple-auth.net -> True\n"
     ]
    }
   ],
   "execution_count": 16
  },
  {
   "metadata": {
    "ExecuteTime": {
     "end_time": "2025-09-21T10:50:31.303285Z",
     "start_time": "2025-09-21T10:50:31.298123Z"
    }
   },
   "cell_type": "code",
   "source": [
    "def exits_unencrypted_url(text: str) -> bool:\n",
    "    urls = extract_urls(text)\n",
    "    for url in urls:\n",
    "        if url.startswith(\"http://\"):\n",
    "            return True\n",
    "    return False"
   ],
   "id": "1903ed3b400e4d32",
   "outputs": [],
   "execution_count": 17
  },
  {
   "metadata": {
    "ExecuteTime": {
     "end_time": "2025-09-21T10:50:31.326205Z",
     "start_time": "2025-09-21T10:50:31.319879Z"
    }
   },
   "cell_type": "code",
   "source": [
    "urls = [\n",
    "    \"http://example.com\",\n",
    "    \"https://secure-site.org\",\n",
    "    \"http://another-site.net\",\n",
    "]\n",
    "for url in urls:\n",
    "    print(url, \"->\", exits_unencrypted_url(url))"
   ],
   "id": "f5f0f1f8705e9597",
   "outputs": [
    {
     "name": "stdout",
     "output_type": "stream",
     "text": [
      "http://example.com -> True\n",
      "https://secure-site.org -> False\n",
      "http://another-site.net -> True\n"
     ]
    }
   ],
   "execution_count": 18
  },
  {
   "metadata": {
    "ExecuteTime": {
     "end_time": "2025-09-21T10:50:31.386608Z",
     "start_time": "2025-09-21T10:50:31.381766Z"
    }
   },
   "cell_type": "code",
   "source": [
    "def is_dangerous_attachment(attachment: str, risky_exts: list[str]) -> bool:\n",
    "    # lấy đuôi tệp gồm cả dấu chấm\n",
    "    ext = '.' + attachment.split('.')[-1].lower() if '.' in attachment else ''\n",
    "    return ext in risky_exts"
   ],
   "id": "8bdb12c6863b8abe",
   "outputs": [],
   "execution_count": 19
  },
  {
   "metadata": {
    "ExecuteTime": {
     "end_time": "2025-09-21T10:50:31.413583Z",
     "start_time": "2025-09-21T10:50:31.406872Z"
    }
   },
   "cell_type": "code",
   "source": [
    "attachments = [\n",
    "    \"document.pdf\",\n",
    "    \"script.exe\",\n",
    "    \"image.jpg\",\n",
    "    \"lab\",\n",
    "    \"malware.bat\"\n",
    "\n",
    "]\n",
    "for att in attachments:\n",
    "    print(att, \"->\", is_dangerous_attachment(att, _ricky_exts))"
   ],
   "id": "c966f1ddaffa3d80",
   "outputs": [
    {
     "name": "stdout",
     "output_type": "stream",
     "text": [
      "document.pdf -> False\n",
      "script.exe -> True\n",
      "image.jpg -> False\n",
      "lab -> False\n",
      "malware.bat -> True\n"
     ]
    }
   ],
   "execution_count": 20
  },
  {
   "metadata": {
    "ExecuteTime": {
     "end_time": "2025-09-21T10:50:31.479266Z",
     "start_time": "2025-09-21T10:50:31.472389Z"
    }
   },
   "cell_type": "code",
   "source": [
    "def exits_fake_domain(text: str, brand_domains: dict) -> bool:\n",
    "    domains = extract_domains(text)\n",
    "    for domain in domains:\n",
    "        for brand, brand_domains in brand_domains.items():\n",
    "            if brand.lower() in domain and all(brand_domain not in domain for brand_domain in brand_domains):\n",
    "                return True\n",
    "    return False"
   ],
   "id": "f9bf012da334cb08",
   "outputs": [],
   "execution_count": 21
  },
  {
   "metadata": {
    "ExecuteTime": {
     "end_time": "2025-09-21T10:50:31.502350Z",
     "start_time": "2025-09-21T10:50:31.496386Z"
    }
   },
   "cell_type": "code",
   "source": [
    "domains = [\n",
    "    \"http://apple-secure.com\",\n",
    "    \"https://microsoft.com\",\n",
    "    \"http://google-support.net\",\n",
    "    \"https://amazon.com\"\n",
    "]\n",
    "for domain in domains:\n",
    "    print(domain, \"->\", exits_fake_domain(domain, _brand_domains))"
   ],
   "id": "c2bfc0319931cba3",
   "outputs": [
    {
     "name": "stdout",
     "output_type": "stream",
     "text": [
      "http://apple-secure.com -> True\n",
      "https://microsoft.com -> False\n",
      "http://google-support.net -> True\n",
      "https://amazon.com -> False\n"
     ]
    }
   ],
   "execution_count": 22
  },
  {
   "metadata": {
    "ExecuteTime": {
     "end_time": "2025-09-21T10:50:31.569277Z",
     "start_time": "2025-09-21T10:50:31.562395Z"
    }
   },
   "cell_type": "code",
   "source": [
    "def validate_letter_format(data: dict) -> bool:\n",
    "    required_fields = {\n",
    "        \"id\": str,\n",
    "        \"datetime\": str,\n",
    "        \"sender\": str,\n",
    "        \"subject\": str,\n",
    "        \"attachment\": (str, type(None)),\n",
    "        \"text\": str\n",
    "    }\n",
    "    for field, field_type in required_fields.items():\n",
    "        if field not in data:\n",
    "            # print(f\"Missing field: {field}\")\n",
    "            return False\n",
    "        if not isinstance(data[field], field_type):\n",
    "            # print(f\"Field '{field}' has wrong type: {type(data[field])}, expected {field_type}\")\n",
    "            return False\n",
    "    # Simple email format check\n",
    "    if not re.match(r\"[^@]+@[^@]+\\.[^@]+\", data[\"sender\"]):\n",
    "        # print(\"Invalid sender email format\")\n",
    "        return False\n",
    "    if data.get(\"text\", \"\") == \"\":\n",
    "        # print(\"Text field is empty\")\n",
    "        return False\n",
    "    return True"
   ],
   "id": "d53b05dbed64a41c",
   "outputs": [],
   "execution_count": 23
  },
  {
   "metadata": {
    "ExecuteTime": {
     "end_time": "2025-09-21T10:50:31.601992Z",
     "start_time": "2025-09-21T10:50:31.595745Z"
    }
   },
   "cell_type": "code",
   "source": [
    "letter = {\n",
    "    \"id\": \"12345\",\n",
    "    \"datetime\": \"2023-10-01T12:34:56\",\n",
    "    \"sender\": \"cloud@verify.ru\",\n",
    "    \"subject\": \"Account Verification\",\n",
    "    \"attachment\": None,\n",
    "    \"text\": \"Your account is blocked. Please verify your password at http://cloud-verify.com\"\n",
    "}\n",
    "print(\"Letter valid:\", validate_letter_format(letter))"
   ],
   "id": "8df47d0703a62b15",
   "outputs": [
    {
     "name": "stdout",
     "output_type": "stream",
     "text": [
      "Letter valid: True\n"
     ]
    }
   ],
   "execution_count": 24
  },
  {
   "metadata": {
    "ExecuteTime": {
     "end_time": "2025-09-21T10:50:31.673786Z",
     "start_time": "2025-09-21T10:50:31.665883Z"
    }
   },
   "cell_type": "code",
   "source": [
    "def score_letter(data: dict) -> int:\n",
    "    score = 0\n",
    "    sender = data.get(\"sender\", \"\")\n",
    "    subject = data.get(\"subject\", \"\")\n",
    "    attachment = data.get(\"attachment\", None)\n",
    "    text = data.get(\"text\", \"\")\n",
    "\n",
    "    # check sender domain +2\n",
    "    if exits_dangerous_domain(sender, _keywords_domains):\n",
    "        score += 2\n",
    "        #print(\"Dangerous sender domain detected.\")\n",
    "    # check subject keywords +1\n",
    "    subject_score, _ = keyword_hits(subject, _keywords_phishing)\n",
    "    if subject_score >= 20:\n",
    "        score += 1\n",
    "        #print(\"Dangerous subject detected.\")\n",
    "    # check text keywords +2\n",
    "    text_score, _ = keyword_hits(text, _keywords_phishing)\n",
    "    if text_score >= 20:\n",
    "        score += 1\n",
    "        #print(\"Dangerous text detected.\")\n",
    "    # check shortened URLs +2\n",
    "    if exist_shorted_url(text, _shorteners):\n",
    "        score += 1\n",
    "        #print(\"Dangerous shortened url detected.\")\n",
    "    # check unencrypted URLs +1\n",
    "    if exits_unencrypted_url(text):\n",
    "        score += 1\n",
    "        #print(\"Dangerous unencrypted url detected.\")\n",
    "    # check fake brand domains +3\n",
    "    if exits_fake_domain(text, _brand_domains):\n",
    "        score += 3\n",
    "        #print(\"Dangerous domain detected.\")\n",
    "    # check dangerous attachments +2\n",
    "    if attachment and is_dangerous_attachment(attachment, _ricky_exts):\n",
    "        score += 2\n",
    "        #print(\"Dangerous attachment detected.\")\n",
    "\n",
    "    return score"
   ],
   "id": "e504a8b555f3b0db",
   "outputs": [],
   "execution_count": 25
  },
  {
   "metadata": {
    "ExecuteTime": {
     "end_time": "2025-09-21T10:50:31.703903Z",
     "start_time": "2025-09-21T10:50:31.690517Z"
    }
   },
   "cell_type": "code",
   "source": [
    "data = {\n",
    "  \"id\": \"j5g6h7\",\n",
    "  \"datetime\": \"2025-09-11T14:20:50+03:00\",\n",
    "  \"sender\": \"noreply@amazon-secure.ru\",\n",
    "  \"subject\": \"Проблема с вашим заказом №45231\",\n",
    "  \"attachment\": None,\n",
    "  \"text\": \"Ваш заказ не может быть обработан. Для подтверждения данных перейдите по ссылке: http://amazon-confirm.ru/login. В противном случае заказ будет отменён.\"\n",
    "}\n",
    "score_letter(data)"
   ],
   "id": "49a343640856ffef",
   "outputs": [
    {
     "data": {
      "text/plain": [
       "5"
      ]
     },
     "execution_count": 26,
     "metadata": {},
     "output_type": "execute_result"
    }
   ],
   "execution_count": 26
  },
  {
   "metadata": {
    "ExecuteTime": {
     "end_time": "2025-09-21T10:51:23.330762Z",
     "start_time": "2025-09-21T10:51:23.324326Z"
    }
   },
   "cell_type": "code",
   "source": [
    "def classify_zip(zip_path):\n",
    "    ph = 0\n",
    "    no_ph = 0\n",
    "    with zipfile.ZipFile(zip_path, 'r') as z:\n",
    "        for name in z.namelist():\n",
    "            if not name.lower().endswith('.json') or name.startswith('__MACOSX/'):\n",
    "                continue\n",
    "            try:\n",
    "                data = json.loads(z.read(name).decode('utf-8'))\n",
    "\n",
    "\n",
    "                if not validate_letter_format(data):\n",
    "                    # print(f\"Invalid letter format in file: {name}\")\n",
    "                    continue\n",
    "                score = score_letter(data)\n",
    "                if score >= 3:\n",
    "                    ph += 1\n",
    "                    print(name)\n",
    "                else:\n",
    "                    no_ph += 1\n",
    "            except json.JSONDecodeError:\n",
    "                #print(f\"Error decoding JSON in file: {name}\")\n",
    "                continue\n",
    "    zip_name = zip_path.split('/')[-1]\n",
    "    print(f\"Total phishing letters in zip file {zip_name}: {ph}\")\n",
    "    print(f\"Total non-phishing letters in zip file {zip_name}: {no_ph}\")"
   ],
   "id": "addcf893ee3f0b1e",
   "outputs": [],
   "execution_count": 33
  },
  {
   "metadata": {
    "ExecuteTime": {
     "end_time": "2025-09-21T10:51:24.568122Z",
     "start_time": "2025-09-21T10:51:24.403603Z"
    }
   },
   "cell_type": "code",
   "source": "classify_zip('letters_1.zip')",
   "id": "95fca62d0bd8bf25",
   "outputs": [
    {
     "name": "stdout",
     "output_type": "stream",
     "text": [
      "phish/t5q6r7.json\n",
      "phish/f1a2b3.json\n",
      "phish/j5g6h7.json\n",
      "phish/n9k0l1.json\n",
      "phish/k6h7i8.json\n",
      "phish/g2c3d4.json\n",
      "phish/m8j9k0.json\n",
      "phish/o0l1m2.json\n",
      "phish/s4p5q6.json\n",
      "phish/u6r7s8.json\n",
      "phish/h3e4f5.json\n",
      "phish/l7i8j9.json\n",
      "phish/r3o4p5.json\n",
      "phish/q2n3o4.json\n",
      "phish/p1m2n3.json\n",
      "phish/i4f5g6.json\n",
      "Total phishing letters in zip file letters_1.zip: 16\n",
      "Total non-phishing letters in zip file letters_1.zip: 20\n"
     ]
    }
   ],
   "execution_count": 34
  },
  {
   "metadata": {
    "ExecuteTime": {
     "end_time": "2025-09-21T10:51:29.913843Z",
     "start_time": "2025-09-21T10:51:29.908140Z"
    }
   },
   "cell_type": "code",
   "source": [
    "# tìm tất cả file zip có trong thu mục rồi chạy classify_zip\n",
    "import os\n",
    "\n",
    "def classify_all_zips_in_directory(directory: str):\n",
    "    for filename in os.listdir(directory):\n",
    "        if filename.lower().endswith('.zip'):\n",
    "            zip_path = os.path.join(directory, filename)\n",
    "            classify_zip(zip_path)"
   ],
   "id": "aa384e03af3c9d88",
   "outputs": [],
   "execution_count": 35
  },
  {
   "metadata": {
    "ExecuteTime": {
     "end_time": "2025-09-21T10:51:32.694785Z",
     "start_time": "2025-09-21T10:51:32.264441Z"
    }
   },
   "cell_type": "code",
   "source": "classify_all_zips_in_directory(\".\")",
   "id": "439ff690d0a952e8",
   "outputs": [
    {
     "name": "stdout",
     "output_type": "stream",
     "text": [
      "phish/t5q6r7.json\n",
      "phish/f1a2b3.json\n",
      "phish/j5g6h7.json\n",
      "phish/n9k0l1.json\n",
      "phish/k6h7i8.json\n",
      "phish/g2c3d4.json\n",
      "phish/m8j9k0.json\n",
      "phish/o0l1m2.json\n",
      "phish/s4p5q6.json\n",
      "phish/u6r7s8.json\n",
      "phish/h3e4f5.json\n",
      "phish/l7i8j9.json\n",
      "phish/r3o4p5.json\n",
      "phish/q2n3o4.json\n",
      "phish/p1m2n3.json\n",
      "phish/i4f5g6.json\n",
      "Total phishing letters in zip file .\\letters_1.zip: 16\n",
      "Total non-phishing letters in zip file .\\letters_1.zip: 20\n",
      "test1/t5q6r7.json\n",
      "test1/f1a2b3.json\n",
      "test1/j5g6h7.json\n",
      "test1/n9k0l1.json\n",
      "test1/k6h7i8.json\n",
      "test1/g2c3d4.json\n",
      "test1/m8j9k0.json\n",
      "test1/o0l1m2.json\n",
      "test1/s4p5q6.json\n",
      "test1/u6r7s8.json\n",
      "test1/h3e4f5.json\n",
      "test1/l7i8j9.json\n",
      "test1/r3o4p5.json\n",
      "test1/q2n3o4.json\n",
      "test1/p1m2n3.json\n",
      "test1/i4f5g6.json\n",
      "Total phishing letters in zip file .\\test1.zip: 16\n",
      "Total non-phishing letters in zip file .\\test1.zip: 20\n",
      "test2/t5q6r7.json\n",
      "test2/f1a2b3.json\n",
      "test2/j5g6h7.json\n",
      "test2/n9k0l1.json\n",
      "test2/k6h7i8.json\n",
      "test2/g2c3d4.json\n",
      "test2/m8j9k0.json\n",
      "test2/o0l1m2.json\n",
      "test2/s4p5q6.json\n",
      "test2/u6r7s8.json\n",
      "test2/h3e4f5.json\n",
      "test2/l7i8j9.json\n",
      "test2/r3o4p5.json\n",
      "test2/q2n3o4.json\n",
      "test2/p1m2n3.json\n",
      "test2/i4f5g6.json\n",
      "Total phishing letters in zip file .\\test2.zip: 16\n",
      "Total non-phishing letters in zip file .\\test2.zip: 20\n",
      "Total phishing letters in zip file .\\test3.zip: 0\n",
      "Total non-phishing letters in zip file .\\test3.zip: 1\n",
      "Total phishing letters in zip file .\\test4.zip: 0\n",
      "Total non-phishing letters in zip file .\\test4.zip: 7\n",
      "Total phishing letters in zip file .\\test5.zip: 0\n",
      "Total non-phishing letters in zip file .\\test5.zip: 0\n"
     ]
    }
   ],
   "execution_count": 36
  },
  {
   "metadata": {
    "ExecuteTime": {
     "end_time": "2025-09-21T10:50:32.722475Z",
     "start_time": "2025-09-21T10:50:32.716327Z"
    }
   },
   "cell_type": "code",
   "source": [
    "import hashlib\n",
    "\n",
    "def file_checksum(path, algo=\"sha256\", block_size=65536):\n",
    "    h = hashlib.new(algo)\n",
    "    with open(path, \"rb\") as f:\n",
    "        while chunk := f.read(block_size):\n",
    "            h.update(chunk)\n",
    "    return h.hexdigest()"
   ],
   "id": "3ae977d879aefcc4",
   "outputs": [],
   "execution_count": 31
  },
  {
   "metadata": {
    "ExecuteTime": {
     "end_time": "2025-09-21T10:50:32.746848Z",
     "start_time": "2025-09-21T10:50:32.737406Z"
    }
   },
   "cell_type": "code",
   "source": [
    "for filename in os.listdir(\".\"):\n",
    "    if filename.lower().endswith('.zip'):\n",
    "        print(f\"{filename}: {file_checksum(filename)}\")"
   ],
   "id": "6d5eb041b7a0b046",
   "outputs": [
    {
     "name": "stdout",
     "output_type": "stream",
     "text": [
      "letters_1.zip: 0a84369c1315c05f1a43702faca3a9e5dfedb64a682dbd85ebf4bc6b00d23e4e\n",
      "test1.zip: 9949b5f6358633c0ec8675b26fea116d01587f0c173cc7fdc38704de0c4b8247\n",
      "test2.zip: 49f7ddb84e33036bf6cae79fca34da7a8b536923d86a5cde7668f1e108c2d026\n",
      "test3.zip: 1a8fcb6f3e88900cc90891b3c8bb321a8384125981e562cbc09e02a22c3b2042\n",
      "test4.zip: 7567e35ba0226cd257149fd3e0779fb95304fa409a80d431956801858edb3736\n",
      "test5.zip: 9e2b5710b3aed4a4d961640719f63a67e41240f5cdd4055cfe182fa93de9bfe5\n"
     ]
    }
   ],
   "execution_count": 32
  },
  {
   "metadata": {
    "ExecuteTime": {
     "end_time": "2025-09-21T10:50:32.797273Z",
     "start_time": "2025-09-21T10:50:32.794580Z"
    }
   },
   "cell_type": "code",
   "source": "",
   "id": "d29c94bcec47e85d",
   "outputs": [],
   "execution_count": null
  }
 ],
 "metadata": {
  "kernelspec": {
   "display_name": "Python 3",
   "language": "python",
   "name": "python3"
  },
  "language_info": {
   "codemirror_mode": {
    "name": "ipython",
    "version": 2
   },
   "file_extension": ".py",
   "mimetype": "text/x-python",
   "name": "python",
   "nbconvert_exporter": "python",
   "pygments_lexer": "ipython2",
   "version": "2.7.6"
  }
 },
 "nbformat": 4,
 "nbformat_minor": 5
}
